{
  "nbformat": 4,
  "nbformat_minor": 0,
  "metadata": {
    "colab": {
      "provenance": [],
      "include_colab_link": true
    },
    "kernelspec": {
      "name": "python3",
      "display_name": "Python 3"
    },
    "language_info": {
      "name": "python"
    }
  },
  "cells": [
    {
      "cell_type": "markdown",
      "metadata": {
        "id": "view-in-github",
        "colab_type": "text"
      },
      "source": [
        "<a href=\"https://colab.research.google.com/github/kognavi/tech-trend-analyzer/blob/main/Untitled23.ipynb\" target=\"_parent\"><img src=\"https://colab.research.google.com/assets/colab-badge.svg\" alt=\"Open In Colab\"/></a>"
      ]
    },
    {
      "cell_type": "code",
      "execution_count": null,
      "metadata": {
        "colab": {
          "base_uri": "https://localhost:8080/"
        },
        "id": "TERYGIwaw27s",
        "outputId": "ae46410f-69d5-474c-97b3-902bce34130e"
      },
      "outputs": [
        {
          "output_type": "stream",
          "name": "stdout",
          "text": [
            "Mounted at /content/drive\n"
          ]
        }
      ],
      "source": [
        "from google.colab import drive\n",
        "drive.mount('/content/drive')\n"
      ]
    },
    {
      "cell_type": "code",
      "source": [
        "!pip install feedparser pandas\n"
      ],
      "metadata": {
        "colab": {
          "base_uri": "https://localhost:8080/"
        },
        "id": "cJwjriSsxDM3",
        "outputId": "80d06c97-9296-4e20-e48c-ea22530d752c"
      },
      "execution_count": null,
      "outputs": [
        {
          "output_type": "stream",
          "name": "stdout",
          "text": [
            "Collecting feedparser\n",
            "  Downloading feedparser-6.0.11-py3-none-any.whl.metadata (2.4 kB)\n",
            "Requirement already satisfied: pandas in /usr/local/lib/python3.11/dist-packages (2.2.2)\n",
            "Collecting sgmllib3k (from feedparser)\n",
            "  Downloading sgmllib3k-1.0.0.tar.gz (5.8 kB)\n",
            "  Preparing metadata (setup.py) ... \u001b[?25l\u001b[?25hdone\n",
            "Requirement already satisfied: numpy>=1.23.2 in /usr/local/lib/python3.11/dist-packages (from pandas) (2.0.2)\n",
            "Requirement already satisfied: python-dateutil>=2.8.2 in /usr/local/lib/python3.11/dist-packages (from pandas) (2.9.0.post0)\n",
            "Requirement already satisfied: pytz>=2020.1 in /usr/local/lib/python3.11/dist-packages (from pandas) (2025.2)\n",
            "Requirement already satisfied: tzdata>=2022.7 in /usr/local/lib/python3.11/dist-packages (from pandas) (2025.2)\n",
            "Requirement already satisfied: six>=1.5 in /usr/local/lib/python3.11/dist-packages (from python-dateutil>=2.8.2->pandas) (1.17.0)\n",
            "Downloading feedparser-6.0.11-py3-none-any.whl (81 kB)\n",
            "\u001b[2K   \u001b[90m━━━━━━━━━━━━━━━━━━━━━━━━━━━━━━━━━━━━━━━━\u001b[0m \u001b[32m81.3/81.3 kB\u001b[0m \u001b[31m1.9 MB/s\u001b[0m eta \u001b[36m0:00:00\u001b[0m\n",
            "\u001b[?25hBuilding wheels for collected packages: sgmllib3k\n",
            "  Building wheel for sgmllib3k (setup.py) ... \u001b[?25l\u001b[?25hdone\n",
            "  Created wheel for sgmllib3k: filename=sgmllib3k-1.0.0-py3-none-any.whl size=6046 sha256=e99171c984d4f2328a44e593a6e52db96c2ef93d7ae2024106c00557c5ca9b94\n",
            "  Stored in directory: /root/.cache/pip/wheels/3b/25/2a/105d6a15df6914f4d15047691c6c28f9052cc1173e40285d03\n",
            "Successfully built sgmllib3k\n",
            "Installing collected packages: sgmllib3k, feedparser\n",
            "Successfully installed feedparser-6.0.11 sgmllib3k-1.0.0\n"
          ]
        }
      ]
    },
    {
      "cell_type": "code",
      "source": [
        "import feedparser\n",
        "import pandas as pd\n",
        "from datetime import datetime\n",
        "import time\n",
        "\n",
        "# RSSフィードのURLリスト\n",
        "RSS_FEEDS = {\n",
        "    \"ITmedia NEWS\": \"https://rss.itmedia.co.jp/rss/2.0/news_bursts.xml\",\n",
        "    \"Publickey\": \"https://www.publickey1.jp/atom.xml\",\n",
        "    # 必要に応じて他のRSSフィードを追加\n",
        "}\n",
        "\n",
        "all_articles = []\n",
        "\n",
        "print(\"記事データの収集を開始します...\")\n",
        "for source_name, feed_url in RSS_FEEDS.items():\n",
        "    print(f\"  {source_name} から取得中...\")\n",
        "    try:\n",
        "        feed = feedparser.parse(feed_url)\n",
        "        for entry in feed.entries:\n",
        "            # 日付のパース (複数の形式に対応できるよう試行)\n",
        "            published_time = None\n",
        "            if hasattr(entry, 'published_parsed') and entry.published_parsed:\n",
        "                published_time = datetime.fromtimestamp(time.mktime(entry.published_parsed))\n",
        "            elif hasattr(entry, 'updated_parsed') and entry.updated_parsed: # 'updated' をフォールバックとして使用\n",
        "                published_time = datetime.fromtimestamp(time.mktime(entry.updated_parsed))\n",
        "\n",
        "            article = {\n",
        "                'source': source_name,\n",
        "                'title': getattr(entry, 'title', 'N/A'),\n",
        "                'link': getattr(entry, 'link', 'N/A'),\n",
        "                'published_date': published_time.strftime('%Y-%m-%d %H:%M:%S') if published_time else 'N/A',\n",
        "                'summary': getattr(entry, 'summary', '').split('<br />')[0] # HTMLタグを除去し、概要の最初の一部を取得\n",
        "            }\n",
        "            all_articles.append(article)\n",
        "    except Exception as e:\n",
        "        print(f\"  エラー: {source_name} の取得に失敗しました - {e}\")\n",
        "    time.sleep(1) # サーバーへの負荷を避けるため少し待機\n",
        "\n",
        "print(\"記事データの収集が完了しました。\")\n",
        "\n",
        "# DataFrameに変換\n",
        "df_articles = pd.DataFrame(all_articles)\n",
        "\n",
        "# 重複記事の除去 (タイトルとリンクが完全に一致するものを除去)\n",
        "df_articles.drop_duplicates(subset=['title', 'link'], inplace=True)\n",
        "\n",
        "# 取得したデータの確認\n",
        "print(f\"\\n収集した記事数 (重複除去後): {len(df_articles)}\")\n",
        "if not df_articles.empty:\n",
        "    print(\"\\n取得したデータの先頭5件:\")\n",
        "    print(df_articles.head())\n",
        "else:\n",
        "    print(\"\\n記事が取得できませんでした。RSSフィードURLやネットワーク接続を確認してください。\")\n",
        "\n"
      ],
      "metadata": {
        "colab": {
          "base_uri": "https://localhost:8080/"
        },
        "id": "1reIU_4IxIM4",
        "outputId": "2d008962-7f49-41b6-b3e5-5ac2bd97a4ff"
      },
      "execution_count": null,
      "outputs": [
        {
          "output_type": "stream",
          "name": "stdout",
          "text": [
            "記事データの収集を開始します...\n",
            "  ITmedia NEWS から取得中...\n",
            "  Publickey から取得中...\n",
            "記事データの収集が完了しました。\n",
            "\n",
            "収集した記事数 (重複除去後): 65\n",
            "\n",
            "取得したデータの先頭5件:\n",
            "         source                                              title  \\\n",
            "0  ITmedia NEWS                     KADOKAWA通期決算、複数の事業にサイバー攻撃の“爪痕”   \n",
            "1  ITmedia NEWS  ソフトバンク宮川社長、NTTデータについてコメント　「子会社化が本当に最適なのか、ドコモを見...   \n",
            "2  ITmedia NEWS                                     アクセンチュア、ゆめみ買収へ   \n",
            "3  ITmedia NEWS                       JR東、忘れ物をアプリで探せるように　2026年4月から   \n",
            "4  ITmedia NEWS  「パルワールド」が一部仕様の変更を表明　「特許は侵害していない」が……　「開発継続の予防策として」   \n",
            "\n",
            "                                                link       published_date  \\\n",
            "0  https://www.itmedia.co.jp/news/articles/2505/0...  2025-05-08 10:57:00   \n",
            "1  https://www.itmedia.co.jp/news/articles/2505/0...  2025-05-08 10:40:00   \n",
            "2  https://www.itmedia.co.jp/news/articles/2505/0...  2025-05-08 09:35:00   \n",
            "3  https://www.itmedia.co.jp/news/articles/2505/0...  2025-05-08 08:55:00   \n",
            "4  https://www.itmedia.co.jp/news/articles/2505/0...  2025-05-08 08:19:00   \n",
            "\n",
            "                                             summary  \n",
            "0  KADOKAWAは8日、2025年3月期通期連結決算を発表。24年6月に発生したランサムウェ...  \n",
            "1  ソフトバンクの宮川潤一氏（代表取締役 社長執行役員 兼 CEO）は、同社が5月8日に開いた2...  \n",
            "2  システム開発を手掛けるゆめみ（京都市）が、アクセンチュアによる買収に合意したと発表した。合意...  \n",
            "3  JR東日本は顧客が駅構内などでの忘れ物をスマートフォンアプリで探せる環境を整備すると発表した...  \n",
            "4  「パルワールド」などで知られるゲーム開発会社のポケットペアは、パルワールドの仕様を一部変更す...  \n"
          ]
        }
      ]
    },
    {
      "cell_type": "code",
      "source": [
        "# Google Driveの保存先パス (適宜変更してください)\n",
        "SAVE_PATH = '/content/drive/My Drive/Colab Notebooks/TechNews/articles.csv' # 例: Colab Notebooksフォルダの下のTechNewsフォルダに保存\n",
        "\n",
        "# フォルダが存在しない場合は作成\n",
        "import os\n",
        "os.makedirs(os.path.dirname(SAVE_PATH), exist_ok=True)\n",
        "\n",
        "if not df_articles.empty:\n",
        "    try:\n",
        "        df_articles.to_csv(SAVE_PATH, index=False, encoding='utf-8-sig')\n",
        "        print(f\"\\n記事データをCSVファイルとして保存しました: {SAVE_PATH}\")\n",
        "    except Exception as e:\n",
        "        print(f\"\\nCSVファイルの保存に失敗しました: {e}\")\n",
        "else:\n",
        "    print(\"\\n保存する記事データがありません。\")\n",
        "\n"
      ],
      "metadata": {
        "colab": {
          "base_uri": "https://localhost:8080/"
        },
        "id": "8VtRvOEZxfnU",
        "outputId": "5bcea8a6-7340-4955-e5e3-35fa079c5961"
      },
      "execution_count": null,
      "outputs": [
        {
          "output_type": "stream",
          "name": "stdout",
          "text": [
            "\n",
            "記事データをCSVファイルとして保存しました: /content/drive/My Drive/Colab Notebooks/TechNews/articles.csv\n"
          ]
        }
      ]
    },
    {
      "cell_type": "code",
      "source": [
        "!pip install transformers sentencepiece torch\n"
      ],
      "metadata": {
        "colab": {
          "base_uri": "https://localhost:8080/"
        },
        "id": "SJZtcZcyxnaS",
        "outputId": "cc93898d-b298-47f3-ec18-3ca783e76e41"
      },
      "execution_count": null,
      "outputs": [
        {
          "output_type": "stream",
          "name": "stdout",
          "text": [
            "Requirement already satisfied: transformers in /usr/local/lib/python3.11/dist-packages (4.51.3)\n",
            "Requirement already satisfied: sentencepiece in /usr/local/lib/python3.11/dist-packages (0.2.0)\n",
            "Requirement already satisfied: torch in /usr/local/lib/python3.11/dist-packages (2.6.0+cu124)\n",
            "Requirement already satisfied: filelock in /usr/local/lib/python3.11/dist-packages (from transformers) (3.18.0)\n",
            "Requirement already satisfied: huggingface-hub<1.0,>=0.30.0 in /usr/local/lib/python3.11/dist-packages (from transformers) (0.30.2)\n",
            "Requirement already satisfied: numpy>=1.17 in /usr/local/lib/python3.11/dist-packages (from transformers) (2.0.2)\n",
            "Requirement already satisfied: packaging>=20.0 in /usr/local/lib/python3.11/dist-packages (from transformers) (24.2)\n",
            "Requirement already satisfied: pyyaml>=5.1 in /usr/local/lib/python3.11/dist-packages (from transformers) (6.0.2)\n",
            "Requirement already satisfied: regex!=2019.12.17 in /usr/local/lib/python3.11/dist-packages (from transformers) (2024.11.6)\n",
            "Requirement already satisfied: requests in /usr/local/lib/python3.11/dist-packages (from transformers) (2.32.3)\n",
            "Requirement already satisfied: tokenizers<0.22,>=0.21 in /usr/local/lib/python3.11/dist-packages (from transformers) (0.21.1)\n",
            "Requirement already satisfied: safetensors>=0.4.3 in /usr/local/lib/python3.11/dist-packages (from transformers) (0.5.3)\n",
            "Requirement already satisfied: tqdm>=4.27 in /usr/local/lib/python3.11/dist-packages (from transformers) (4.67.1)\n",
            "Requirement already satisfied: typing-extensions>=4.10.0 in /usr/local/lib/python3.11/dist-packages (from torch) (4.13.2)\n",
            "Requirement already satisfied: networkx in /usr/local/lib/python3.11/dist-packages (from torch) (3.4.2)\n",
            "Requirement already satisfied: jinja2 in /usr/local/lib/python3.11/dist-packages (from torch) (3.1.6)\n",
            "Requirement already satisfied: fsspec in /usr/local/lib/python3.11/dist-packages (from torch) (2025.3.2)\n",
            "Requirement already satisfied: nvidia-cuda-nvrtc-cu12==12.4.127 in /usr/local/lib/python3.11/dist-packages (from torch) (12.4.127)\n",
            "Requirement already satisfied: nvidia-cuda-runtime-cu12==12.4.127 in /usr/local/lib/python3.11/dist-packages (from torch) (12.4.127)\n",
            "Requirement already satisfied: nvidia-cuda-cupti-cu12==12.4.127 in /usr/local/lib/python3.11/dist-packages (from torch) (12.4.127)\n",
            "Requirement already satisfied: nvidia-cudnn-cu12==9.1.0.70 in /usr/local/lib/python3.11/dist-packages (from torch) (9.1.0.70)\n",
            "Requirement already satisfied: nvidia-cublas-cu12==12.4.5.8 in /usr/local/lib/python3.11/dist-packages (from torch) (12.4.5.8)\n",
            "Requirement already satisfied: nvidia-cufft-cu12==11.2.1.3 in /usr/local/lib/python3.11/dist-packages (from torch) (11.2.1.3)\n",
            "Requirement already satisfied: nvidia-curand-cu12==10.3.5.147 in /usr/local/lib/python3.11/dist-packages (from torch) (10.3.5.147)\n",
            "Requirement already satisfied: nvidia-cusolver-cu12==11.6.1.9 in /usr/local/lib/python3.11/dist-packages (from torch) (11.6.1.9)\n",
            "Requirement already satisfied: nvidia-cusparse-cu12==12.3.1.170 in /usr/local/lib/python3.11/dist-packages (from torch) (12.3.1.170)\n",
            "Requirement already satisfied: nvidia-cusparselt-cu12==0.6.2 in /usr/local/lib/python3.11/dist-packages (from torch) (0.6.2)\n",
            "Requirement already satisfied: nvidia-nccl-cu12==2.21.5 in /usr/local/lib/python3.11/dist-packages (from torch) (2.21.5)\n",
            "Requirement already satisfied: nvidia-nvtx-cu12==12.4.127 in /usr/local/lib/python3.11/dist-packages (from torch) (12.4.127)\n",
            "Requirement already satisfied: nvidia-nvjitlink-cu12==12.4.127 in /usr/local/lib/python3.11/dist-packages (from torch) (12.4.127)\n",
            "Requirement already satisfied: triton==3.2.0 in /usr/local/lib/python3.11/dist-packages (from torch) (3.2.0)\n",
            "Requirement already satisfied: sympy==1.13.1 in /usr/local/lib/python3.11/dist-packages (from torch) (1.13.1)\n",
            "Requirement already satisfied: mpmath<1.4,>=1.1.0 in /usr/local/lib/python3.11/dist-packages (from sympy==1.13.1->torch) (1.3.0)\n",
            "Requirement already satisfied: MarkupSafe>=2.0 in /usr/local/lib/python3.11/dist-packages (from jinja2->torch) (3.0.2)\n",
            "Requirement already satisfied: charset-normalizer<4,>=2 in /usr/local/lib/python3.11/dist-packages (from requests->transformers) (3.4.1)\n",
            "Requirement already satisfied: idna<4,>=2.5 in /usr/local/lib/python3.11/dist-packages (from requests->transformers) (3.10)\n",
            "Requirement already satisfied: urllib3<3,>=1.21.1 in /usr/local/lib/python3.11/dist-packages (from requests->transformers) (2.4.0)\n",
            "Requirement already satisfied: certifi>=2017.4.17 in /usr/local/lib/python3.11/dist-packages (from requests->transformers) (2025.4.26)\n"
          ]
        }
      ]
    },
    {
      "cell_type": "code",
      "source": [
        "import pandas as pd\n",
        "from transformers import pipeline\n",
        "import torch # PyTorchが利用可能か確認するため\n",
        "\n",
        "# PyTorchがGPUを利用できるか確認 (Colabのランタイム設定でGPUが選択されていればTrueになる)\n",
        "if torch.cuda.is_available():\n",
        "    device = torch.device(\"cuda\")\n",
        "    print(f\"GPUが利用可能です: {torch.cuda.get_device_name(0)}\")\n",
        "else:\n",
        "    device = torch.device(\"cpu\")\n",
        "    print(\"GPUは利用できません。CPUを使用します。\")\n",
        "\n",
        "# ゼロショット分類パイプラインをロード\n",
        "# device=0 とするとGPUを、device=-1 とするとCPUを指定します。\n",
        "# Colab無料版ではGPUが使える場合と使えない場合があるので、自動判別させます。\n",
        "classifier_device = 0 if torch.cuda.is_available() else -1\n",
        "try:\n",
        "    print(\"ゼロショット分類モデルをロード中です...（少し時間がかかる場合があります）\")\n",
        "    classifier = pipeline(\"zero-shot-classification\",\n",
        "                          model=\"facebook/bart-large-mnli\",\n",
        "                          device=classifier_device)\n",
        "    print(\"モデルのロードが完了しました。\")\n",
        "except Exception as e:\n",
        "    print(f\"モデルのロード中にエラーが発生しました: {e}\")\n",
        "    print(\"CPUでのロードを試みます...\")\n",
        "    classifier = pipeline(\"zero-shot-classification\",\n",
        "                          model=\"facebook/bart-large-mnli\",\n",
        "
